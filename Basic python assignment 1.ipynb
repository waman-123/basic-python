{
 "cells": [
  {
   "cell_type": "markdown",
   "id": "f0548a84",
   "metadata": {},
   "source": [
    "# Assignment 1\n",
    "\n",
    "1. In the below elements which of them are values or an expression? eg:- values can be integer or string and expressions will be mathematical operators.\n",
    "\n",
    ".\n",
    "\n",
    "'hello'\n",
    "\n",
    "-87.8\n",
    ".\n",
    "\n",
    "/\n",
    "\n",
    ".\n",
    "\n",
    "6\n",
    "\n",
    "Ans:- expression - *, - , / , +\n",
    "\n",
    "values 'hello', 6 ,-87.8"
   ]
  },
  {
   "cell_type": "markdown",
   "id": "b9d2a1cf",
   "metadata": {},
   "source": [
    " 2. What is the difference between string and variable?\n",
    "\n",
    "\n",
    "A Variable is a store of information, and a String is a type of information you would store in a Variable. A String is usually words, enclosed with \"\"\n",
    "\n",
    "Eg\n",
    "String x =\"Welcome to SoloLearn\"\n",
    "X is the Variable, and we declared it as a String, use the single = to assign the text to it.\n",
    "\n",
    "a string is a value representing text\n",
    "\n",
    "a variable is a name that can refer to any value\n",
    "One key difference between a string and a variable is that a string is a fixed value, while the value stored in a variable can be changed. \n",
    "For example, you could define a string with the value \"Hello World\" and it would always be \"Hello World\", \n",
    "but you could define a variable and assign it the value \"Hello World\" at one point in your program, and then later assign it a different value, such as a number or a different string.\n",
    "\n",
    "Another difference is that strings are immutable, which means that they cannot be modified once they have been created. \n",
    "In contrast, the value stored in a variable can be changed as many times as necessary throughout the execution of a program.\n"
   ]
  },
  {
   "cell_type": "markdown",
   "id": "19e0033f",
   "metadata": {},
   "source": [
    " 3. Describe three different data types.\n",
    "\n",
    "Ans:-\n",
    "\n",
    "Numbers : When a number is assigned to a variable number class object is created.\n",
    "int : eg- a = 10\n",
    "\n",
    "float: eg a = 10.22\n",
    "\n",
    "complex eg a = 3 +4j\n",
    "\n",
    "String: The string can be defined as the sequemce of characters represented in a single or double quotes.\n",
    "e.g \"Hello all\"\n",
    "\n",
    "Tuples: Tuples also store the collection of the elements of different data types. A tuple is the same as the list, but a tuple is immutable (non-editable or cannot modify the size and elements value). \n",
    "    To create a tuple uses the () simple parenthesis; within this brackets, store all the elements separated with the comma (,).\n",
    "\n",
    "List: List stores a collection of different types of elements. The list is mutable (editable). \n",
    "    It is the same as arrays in C, but the list stores elements of different data types. To create a list uses the [] square brackets; within these brackets, stores all the elements separated with the comma (,)."
   ]
  },
  {
   "cell_type": "markdown",
   "id": "7a6e5653",
   "metadata": {},
   "source": [
    " 4. What is an expression made up of? What do all expressions do?\n",
    "\n",
    "Ans:- An expression is made up of combination of operators, constants and variables.\n",
    "    An expression may consist of one or more operands, and zero or more operators to produce a value.\n",
    "    These types of expressions are used to show the relation between two entities. \n",
    "    These entities may be an integer, floating-point number, or something else."
   ]
  },
  {
   "cell_type": "markdown",
   "id": "aae73249",
   "metadata": {},
   "source": [
    "5. This assignment statements, like spam = 10. What is the difference between an expression and a statement?\n",
    "\n",
    "Ans:- An expression is a combination of values, variables, and operators that represents a single value. \n",
    "      An expression can be as simple as a single number or as complex as a series of calculations and function calls.\n",
    "\n",
    "   A statement is a piece of code that performs a specific action. \n",
    "    In Python, there are several types of statements, including assignment statements, control statements, and function definitions.\n",
    "\n",
    "   An assignment statement is a type of statement that assigns a value to a variable. \n",
    "    For example: spam = 10\n",
    "\n",
    "   In this example, spam = 10 is an assignment statement that assigns the value 10 to the variable spam.\n",
    "\n",
    "   The main difference between an expression and a statement is that an expression produces a value, \n",
    "    while a statement performs an action. An expression can be used as part o"
   ]
  },
  {
   "cell_type": "markdown",
   "id": "17d0ae8e",
   "metadata": {},
   "source": [
    "6. After running the following code, what does the variable bacon contain?\n",
    "Ans:-"
   ]
  },
  {
   "cell_type": "code",
   "execution_count": 1,
   "id": "86172be7",
   "metadata": {},
   "outputs": [
    {
     "data": {
      "text/plain": [
       "22"
      ]
     },
     "execution_count": 1,
     "metadata": {},
     "output_type": "execute_result"
    }
   ],
   "source": [
    "bacon = 22\n",
    "bacon"
   ]
  },
  {
   "cell_type": "code",
   "execution_count": 2,
   "id": "dd33523b",
   "metadata": {},
   "outputs": [
    {
     "data": {
      "text/plain": [
       "23"
      ]
     },
     "execution_count": 2,
     "metadata": {},
     "output_type": "execute_result"
    }
   ],
   "source": [
    "bacon+1"
   ]
  },
  {
   "cell_type": "markdown",
   "id": "fcded31b",
   "metadata": {},
   "source": [
    "7. What should the values of the following two terms be?\n",
    "Ans:-"
   ]
  },
  {
   "cell_type": "code",
   "execution_count": 3,
   "id": "15fc9e3c",
   "metadata": {},
   "outputs": [
    {
     "data": {
      "text/plain": [
       "'spamspamspam'"
      ]
     },
     "execution_count": 3,
     "metadata": {},
     "output_type": "execute_result"
    }
   ],
   "source": [
    "'spam' + 'spamspam'"
   ]
  },
  {
   "cell_type": "code",
   "execution_count": 4,
   "id": "d56ec548",
   "metadata": {},
   "outputs": [
    {
     "data": {
      "text/plain": [
       "'spamspamspam'"
      ]
     },
     "execution_count": 4,
     "metadata": {},
     "output_type": "execute_result"
    }
   ],
   "source": [
    "'spam'*3"
   ]
  },
  {
   "cell_type": "markdown",
   "id": "7a25b58e",
   "metadata": {},
   "source": [
    "8. Why is eggs a valid variable name while 100 is invalid?\n",
    "\n",
    "Ans:- In Python, variable names can only contain letters, digits, and underscores. They cannot start with a digit.\n",
    "\n",
    "This means that eggs is a valid variable name because it consists only of letters.\n",
    "\n",
    "On the other hand, 100 is not a valid variable name because it starts with a digit.\n",
    "\n",
    "The reason for this rule is that Python uses certain digits and symbols to represent special meanings (such as the equal sign (=) for assignment). If variable names were allowed to start with digits, it could cause confusion when reading and writing code.\n",
    "\n",
    "For example, the following are all valid variable names in Python: eggs my_var x1 _private\n",
    "\n",
    "The following are not valid variable names in Python: 100 1x $cash"
   ]
  },
  {
   "cell_type": "markdown",
   "id": "2fffc506",
   "metadata": {},
   "source": [
    "9. What three functions can be used to get the integer, floating-point number, or string version of a value?\n",
    "\n",
    "Ans:- In Python, you can use the following three functions to convert a value to a specific data type:\n",
    "\n",
    "1 int(): This function converts a value to an integer data type. If the value is a floating-point number, it will be truncated (not rounded) to an integer. If the value is a string, it must contain a valid integer representation. For example, int(3.14) # 3 int('10') # 10 int('3.14') # ValueError: invalid literal for int() with base 10: '3.14'\n",
    "\n",
    "2 float(): This function converts a value to a floating-point number data type. If the value is an integer, it will be converted to a floating-point number. If the value is a string, it must contain a valid floating-point number representation. For example: float(3) # 3.0 float('3.14') # 3.14 float('hello') # ValueError: could not convert string to float: 'hello'\n",
    "\n",
    "3 str(): This function converts a value to a string data type. If the value is a number, it will be converted to a string representation of that number. For example: str(3) # '3' str(3.14) # '3.14' str(True) # 'True'\n",
    "\n",
    "By using these functions, you can easily convert a value to the desired data type in Python. It's important to note that these functions can only be used to convert values to integers, floating-point numbers, or strings. They cannot be used to convert a value to a different data type, such as"
   ]
  },
  {
   "cell_type": "markdown",
   "id": "16c2ae54",
   "metadata": {},
   "source": [
    "10. Why does this expression cause an error? How can you fix it?\n",
    "Ans:-\n"
   ]
  },
  {
   "cell_type": "code",
   "execution_count": 5,
   "id": "4729d6a3",
   "metadata": {},
   "outputs": [
    {
     "ename": "TypeError",
     "evalue": "can only concatenate str (not \"int\") to str",
     "output_type": "error",
     "traceback": [
      "\u001b[1;31m---------------------------------------------------------------------------\u001b[0m",
      "\u001b[1;31mTypeError\u001b[0m                                 Traceback (most recent call last)",
      "Input \u001b[1;32mIn [5]\u001b[0m, in \u001b[0;36m<cell line: 1>\u001b[1;34m()\u001b[0m\n\u001b[1;32m----> 1\u001b[0m \u001b[38;5;124;43m'\u001b[39;49m\u001b[38;5;124;43mI have eaten\u001b[39;49m\u001b[38;5;124;43m'\u001b[39;49m\u001b[43m \u001b[49m\u001b[38;5;241;43m+\u001b[39;49m\u001b[43m \u001b[49m\u001b[38;5;241;43m99\u001b[39;49m \u001b[38;5;241m+\u001b[39m \u001b[38;5;124m'\u001b[39m\u001b[38;5;124mburritos\u001b[39m\u001b[38;5;124m'\u001b[39m\n",
      "\u001b[1;31mTypeError\u001b[0m: can only concatenate str (not \"int\") to str"
     ]
    }
   ],
   "source": [
    "'I have eaten' + 99 + 'burritos'"
   ]
  },
  {
   "cell_type": "code",
   "execution_count": null,
   "id": "d2d950a6",
   "metadata": {},
   "outputs": [],
   "source": []
  }
 ],
 "metadata": {
  "kernelspec": {
   "display_name": "Python 3 (ipykernel)",
   "language": "python",
   "name": "python3"
  },
  "language_info": {
   "codemirror_mode": {
    "name": "ipython",
    "version": 3
   },
   "file_extension": ".py",
   "mimetype": "text/x-python",
   "name": "python",
   "nbconvert_exporter": "python",
   "pygments_lexer": "ipython3",
   "version": "3.9.12"
  }
 },
 "nbformat": 4,
 "nbformat_minor": 5
}
