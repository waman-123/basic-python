{
 "cells": [
  {
   "cell_type": "markdown",
   "id": "5f85bbae",
   "metadata": {},
   "source": [
    "# Assignment_2 "
   ]
  },
  {
   "cell_type": "markdown",
   "id": "607e30e3",
   "metadata": {},
   "source": [
    "Q.1-What are the two values of the Boolean data type? How do you write them?\n",
    "\n",
    "Ans:- The Boolean data type in Python represents a logical value, which can be either True or False.\n",
    "\n",
    "To write a Boolean value in Python, you can simply use the True or False keyword. For example:\n",
    "\n",
    "is_raining = True\n",
    "is_sunny = False\n",
    "\n",
    "These statements create two variables, is_raining and is_sunny, and assign them the values True and False, respectively.\n",
    "Boolean values are often used in control statements to determine whether a certain condition is met. For example:\n",
    "\n",
    "if is_raining:\n",
    "    print('Bring an umbrella!')\n",
    "else:\n",
    "    print('No umbrella needed.')\n",
    "\n",
    "\n",
    "This code will print 'Bring an umbrella!' if the is_raining variable is True, and 'No umbrella needed.' if it is False.\n",
    "\n",
    "That's all you need to know about the Boolean data type in Python! It's a simple but powerful data type that is used in many different types of program."
   ]
  },
  {
   "cell_type": "raw",
   "id": "6ce3b92f",
   "metadata": {},
   "source": [
    "Q.2- What are the three different types of Boolean operators?\n",
    "\n",
    "Ans:- In Python, there are three different types of Boolean operators:\n",
    "\n",
    "1 - Logical AND (and): This operator returns True if both of the operands are True, and False otherwise. For example:\n",
    "True and True  # True\n",
    "True and False  # False\n",
    "False and True  # False\n",
    "False and False  # False\n",
    "\n",
    "2 - Logical OR (or): This operator returns True if at least one of the operands is True, and False otherwise. For example:\n",
    "True or True  # True\n",
    "True or False  # True\n",
    "False or True  # True\n",
    "False or False  # False\n",
    "\n",
    "3 - Logical NOT (not): This operator returns the opposite of the operand. If the operand is True, it returns False, and if the operand is False, it returns True. For example:\n",
    "not True  # False\n",
    "not False  # True"
   ]
  },
  {
   "cell_type": "raw",
   "id": "7cd8d3fb",
   "metadata": {},
   "source": [
    "Q.3- Make a list of each Boolean operator truth tables (i.e. every possible combination of Boolean values for the operator and what it evaluate ). \n",
    "\n",
    "Ans :- Logical AND (and):\n",
    "\n",
    "Operand       Operand 2   Result\n",
    "True          True        True\n",
    "True          False       False\n",
    "False         True        False\n",
    "False         False       False\n",
    "\n",
    "Logical OR (or):\n",
    "\n",
    "Operand 1    Operand 2   Result\n",
    "True         True        True\n",
    "True         False       True\n",
    "False        True        True\n",
    "False        False       False\n",
    "\n",
    "Logical NOT (not):\n",
    "\n",
    "Operand   Result\n",
    "True      False\n",
    "False     True"
   ]
  },
  {
   "cell_type": "markdown",
   "id": "7d8b04b7",
   "metadata": {},
   "source": [
    "Q.4-What are the values of the following expressions?\n",
    "(5 > 4) and (3 == 5)\n",
    "not (5 > 4)\n",
    "(5 > 4) or (3 == 5)\n",
    "not ((5 > 4) or (3 == 5))\n",
    "(True and True) and (True == False)\n",
    "(not False) or (not True)\n",
    "\n",
    "Ans :-"
   ]
  },
  {
   "cell_type": "code",
   "execution_count": 1,
   "id": "2d0f2bd9",
   "metadata": {},
   "outputs": [
    {
     "name": "stdout",
     "output_type": "stream",
     "text": [
      "False\n",
      "False\n",
      "True\n",
      "True\n",
      "False\n",
      "True\n"
     ]
    }
   ],
   "source": [
    "print((5 > 4) and (3 == 5))\n",
    "print(not (5 > 4))\n",
    "print((5 > 4) or (3 == 5))\n",
    "print(((5 > 4) or (3 == 5)))\n",
    "print((True and True) and (True == False))\n",
    "print((not False) or (not True))"
   ]
  },
  {
   "cell_type": "markdown",
   "id": "3923cbc2",
   "metadata": {},
   "source": [
    "Q.5- What are the six comparison operators?\n",
    "\n",
    "Ans :- \n",
    "1 Equal to (==): This operator returns True if the operands are equal, and False otherwise. \n",
    "2 Not equal to (!=): This operator returns True if the operands are not equal, and False otherwise.\n",
    "3 Greater than (>): This operator returns True if the left operand is greater than the right operand, and False otherwise. \n",
    "4 Less than (<): This operator returns True if the left operand is less than the right operand, and False otherwise.\n",
    "5 In Python, greater than or equal (>=): operator is a comparison operator that returns True if the left operand is greater than or equal to the right operand, and False otherwise.\n",
    "6 In Python, less than or equal to (<=), the <= operator is a comparison operator that returns True if the left operand is less than or equal to the right operand, and False otherwise.\n"
   ]
  },
  {
   "cell_type": "markdown",
   "id": "749de5ce",
   "metadata": {},
   "source": [
    "Q.6- How do you tell the difference between the equal to and assignment operators? Describe a condition and when you would use one.\n",
    "\n",
    "Ans :- In Python, the equal to operator (==) is used to compare the values of two operands, while the assignment operator (=) is used to assign a value to a variable.\n",
    "\n",
    "The equal to operator returns True if the operands are equal, and False otherwise. For example:\n",
    "\n",
    "x = 5\n",
    "y = 10\n",
    "print(x == y)  # False\n",
    "\n",
    "x = 10\n",
    "y = 10\n",
    "print(x == y)  # True\n",
    "\n",
    "The assignment operator assigns a value to a variable. For example:\n",
    "\n",
    "x = 5\n",
    "y = 10\n",
    "x = y\n",
    "print(x)  # 10\n",
    "\n",
    "It's important to remember that the equal to operator is used for comparison, while the assignment operator is used for assignment. \n",
    "You should use the equal to operator when you want to compare two values, and the assignment operator when you want to assign a value to a variable.\n",
    "\n",
    "Here's a simple example of when you might use the equal to operator:\n",
    "\n",
    "if x == y:\n",
    "    print('x and y are equal')\n",
    "else:\n",
    "    print('x and y are not equal')\n",
    "\n",
    "This code will print 'x and y are equal' if x and y are equal, and 'x and y are not equal' otherwise."
   ]
  },
  {
   "cell_type": "markdown",
   "id": "fe0cabd8",
   "metadata": {},
   "source": [
    "Q.7-Identify the three block in the code.\n",
    "\n",
    "Ans :-"
   ]
  },
  {
   "cell_type": "code",
   "execution_count": 2,
   "id": "0c880fb0",
   "metadata": {},
   "outputs": [
    {
     "name": "stdout",
     "output_type": "stream",
     "text": [
      "spam\n"
     ]
    }
   ],
   "source": [
    "spam = 0 \n",
    "if spam == 10: \n",
    "  print('eggs') # Block 1\n",
    "  if spam > 5: \n",
    "    print('bacon') # Block 2\n",
    "  else: \n",
    "    print('ham') # Block 3\n",
    "  print('spam') \n",
    "print('spam')"
   ]
  },
  {
   "cell_type": "markdown",
   "id": "7802d2d4",
   "metadata": {},
   "source": [
    "1 The first block is the first if statement, which consists of the line if spam == 10: and the line print('eggs'). \n",
    "This block will be executed if the condition spam == 10 is True.\n",
    "2 The second block is the second if statement, which consists of the line if spam > 5: and the line print('bacon'). \n",
    "This block will be executed if the condition spam > 5 is True.\n",
    "3 The third block is the else clause, which consists of the line else: and the line print('ham'). \n",
    "This block will be executed if the condition in the second if statement is False.\n",
    "\n",
    "The code also contains two additional lines that are not part of any block: print('spam') and print('spam'). \n",
    "These lines will be executed regardless of the values of spam or the results of the if statements."
   ]
  },
  {
   "cell_type": "markdown",
   "id": "8b37ff44",
   "metadata": {},
   "source": [
    "Q.8- Write code that prints Hello if 1 is stored in spam, prints Howdy if 2 is stored in spam, and prints Greetings! if anything else is stored in spam.\n",
    "\n",
    "Ans :-"
   ]
  },
  {
   "cell_type": "code",
   "execution_count": 3,
   "id": "df6b271a",
   "metadata": {},
   "outputs": [
    {
     "name": "stdout",
     "output_type": "stream",
     "text": [
      "Greetings!\n"
     ]
    }
   ],
   "source": [
    "if spam == 1:\n",
    "  print('Hello')\n",
    "if spam == 2:\n",
    "  print(\"Howdy\")\n",
    "else:\n",
    "  print('Greetings!')"
   ]
  },
  {
   "cell_type": "markdown",
   "id": "d7b779de",
   "metadata": {},
   "source": [
    "Q.9-If your programme is stuck in an endless loop, what keys you’ll press?\n",
    "\n",
    "Ans: - Ctrl + C"
   ]
  },
  {
   "cell_type": "raw",
   "id": "4e1ec4d8",
   "metadata": {},
   "source": [
    "Q.10- How can you tell the difference between break and continue?\n",
    "\n",
    "Ans: - The main difference between both the statements is that when break keyword comes, it terminates the execution of the current loop and passes the control over the next loop or main body, whereas when continue keyword is encountered, it skips the current iteration and executes the very next iteration in the loop.\n",
    "\n",
    "break: The break statement is used to exit a loop prematurely. \n",
    "When a break statement is encountered inside a loop, the loop is terminated immediately, and the program continues with the next line of code after the loop.\n",
    "\n",
    "continue: The continue statement is used to skip the rest of the current iteration of a loop and move on to the next one. \n",
    "When a continue statement is encountered inside a loop, \n",
    "the program skips the remaining statements in the current iteration and goes back to the top of the loop to start the next iteration.\n",
    "\n",
    "Here's an example of how you might use break and continue in a loop:\n",
    "\n",
    "for i in range(10):\n",
    "    if i == 5:\n",
    "        break\n",
    "    print(i)\n",
    "\n",
    "This code will print the numbers 0 through 4, and then exit the loop when it reaches the break statement at i == 5.\n",
    "\n",
    "for i in range(10):\n",
    "    if i % 2 == 0:\n",
    "        continue\n",
    "    print(i)\n",
    "\n",
    "This code will print the odd numbers 1 through 9, skipping the even numbers when it reaches the continue statement at i % 2 == 0."
   ]
  },
  {
   "cell_type": "raw",
   "id": "b49befb2",
   "metadata": {},
   "source": [
    "Q.11- In a for loop, what is the difference between range(10), range(0, 10), and range(0, 10, 1)?\n",
    "\n",
    "Ans:-\n",
    "In Python, the range() function is used to generate a sequence of numbers. It takes three arguments: start, stop, and step.\n",
    "\n",
    "start: The starting value of the sequence. This is optional, and the default value is 0.\n",
    "stop: The ending value of the sequence (exclusive). This is the required argument.\n",
    "step: The amount by which the values in the sequence should be incremented. This is optional, and the default value is 1.\n",
    "\n",
    "Here's an example of how you might use range() in a for loop:\n",
    "\n",
    "for i in range(10):\n",
    "    print(i)\n",
    "This code will print the numbers 0 through 9. The range() function generates a sequence of numbers from 0 to 9 (exclusive), with a step size of 1.\n",
    "for i in range(0, 10):\n",
    "    print(i)\n",
    "This code will also print the numbers 0 through 9. Here, the range() function generates a sequence of numbers from 0 to 10 (exclusive), with a step size of 1.\n",
    "for i in range(0, 10, 1):\n",
    "    print(i)\n",
    "This code will also print the numbers 0 through 9. Here, the range() function generates a sequence of numbers from 0 to 10 (exclusive), with a step size of 1.\n",
    "\n",
    "In all three examples, the range() function generates a sequence of numbers from 0 to 9 (exclusive), with a step size of 1. \n",
    "The only difference is in the way the arguments are specified.\n",
    "\n",
    "I hope this helps! Let me know if you have any other questions."
   ]
  },
  {
   "cell_type": "raw",
   "id": "2a7ee03e",
   "metadata": {},
   "source": [
    "Q.12- Write a short program that prints the numbers 1 to 10 using a for loop. Then write an equivalent\n",
    "program that prints the numbers 1 to 10 using a while loop.\n",
    "\n",
    "Ans :- "
   ]
  },
  {
   "cell_type": "code",
   "execution_count": 1,
   "id": "a9b8aac4",
   "metadata": {},
   "outputs": [
    {
     "name": "stdout",
     "output_type": "stream",
     "text": [
      "1\n",
      "2\n",
      "3\n",
      "4\n",
      "5\n",
      "6\n",
      "7\n",
      "8\n",
      "9\n",
      "10\n"
     ]
    }
   ],
   "source": [
    "for i in range(1, 11):\n",
    "    print(i)"
   ]
  },
  {
   "cell_type": "code",
   "execution_count": 2,
   "id": "ba1b8068",
   "metadata": {},
   "outputs": [
    {
     "name": "stdout",
     "output_type": "stream",
     "text": [
      "1\n",
      "2\n",
      "3\n",
      "4\n",
      "5\n",
      "6\n",
      "7\n",
      "8\n",
      "9\n",
      "10\n"
     ]
    }
   ],
   "source": [
    "i = 1\n",
    "while i <= 10:\n",
    "    print(i)\n",
    "    i += 1"
   ]
  },
  {
   "cell_type": "raw",
   "id": "99312955",
   "metadata": {},
   "source": [
    " Q.13- If you had a function named bacon() inside a module named spam, how would you call it after importing spam?\n",
    "\n",
    "Ans :-\n",
    "from spam import bacon \n",
    "bacon()\n",
    "\n",
    "or\n",
    "spam.bacon()"
   ]
  }
 ],
 "metadata": {
  "kernelspec": {
   "display_name": "Python 3 (ipykernel)",
   "language": "python",
   "name": "python3"
  },
  "language_info": {
   "codemirror_mode": {
    "name": "ipython",
    "version": 3
   },
   "file_extension": ".py",
   "mimetype": "text/x-python",
   "name": "python",
   "nbconvert_exporter": "python",
   "pygments_lexer": "ipython3",
   "version": "3.9.12"
  }
 },
 "nbformat": 4,
 "nbformat_minor": 5
}
