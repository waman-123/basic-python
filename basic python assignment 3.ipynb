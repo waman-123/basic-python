{
 "cells": [
  {
   "cell_type": "markdown",
   "id": "37bb6f00",
   "metadata": {},
   "source": [
    "# Assignment 3"
   ]
  },
  {
   "cell_type": "markdown",
   "id": "6f44ce85",
   "metadata": {},
   "source": [
    "1. Why are functions advantageous to have in your programs?\n",
    "\n",
    "Ans: Functions are the most important aspect of an application. A function can be defined as the organized block of reusable code, which can be called whenever required.\n",
    "Functions provide a couple of benefits:\n",
    "\n",
    "Functions allow the same piece of code to run multiple times\n",
    "\n",
    "Functions break long programs up into smaller components\n",
    "\n",
    "Functions can be shared and used by other programmers"
   ]
  },
  {
   "cell_type": "markdown",
   "id": "0f4463bb",
   "metadata": {},
   "source": [
    "2. When does the code in a function run: when it's specified or when it's called?\n",
    "\n",
    "Ans:- The code in a function executes when the function is called, not when the function is specified."
   ]
  },
  {
   "cell_type": "markdown",
   "id": "ecc716ef",
   "metadata": {},
   "source": [
    "3. What statement creates a function?\n",
    "Ans:- The def statement defines a function."
   ]
  },
  {
   "cell_type": "markdown",
   "id": "9005f1ee",
   "metadata": {},
   "source": [
    "4. What is the difference between a function and a function call?\n",
    "Ans:- A function is procedure to achieve a particular result. \n",
    "    while function call is using this function to achive that task.\n",
    "    Using a function to do a particular task any point in program is called as function call."
   ]
  },
  {
   "cell_type": "markdown",
   "id": "c17d0dfa",
   "metadata": {},
   "source": [
    "5. How many global scopes are there in a Python program? How many local scopes?\n",
    "Ans:- There is one global scope, and a local scope is created whenever a function is called."
   ]
  },
  {
   "cell_type": "markdown",
   "id": "c418c82c",
   "metadata": {},
   "source": [
    "6. What happens to variables in a local scope when the function call returns?\n",
    "\n",
    "Ans:- When a function call returns, the local scope that was created for the function is destroyed,         and any variables that were defined within that scope are no longer accessible.\n",
    "      This is because the local scope is only in existence while the function is being executed, and         it is destroyed when the function returns."
   ]
  },
  {
   "cell_type": "markdown",
   "id": "7d14f939",
   "metadata": {},
   "source": [
    "7. What is the concept of a return value? Is it possible to have a return value in an expression?\n",
    "Ans:- In a Python program, a return value is the value that is returned by a function when it is     called.\n",
    "    When a function is called, it can execute a series of statements and then return a value to the   caller. \n",
    "    This value is known as the return value of the function. It is possible to have a return value in  an expression. \n",
    "    In Python, an expression is any statement that returns a value."
   ]
  },
  {
   "cell_type": "markdown",
   "id": "14a21781",
   "metadata": {},
   "source": [
    "8. If a function does not have a return statement, what is the return value of a call to that function?\n",
    "Ans:- If a function does not have a return statement, the return value of a call to that function is None. \n",
    "In Python, None is a special value that represents the absence of a value or a null value. \n",
    "It is an object of its own type, called NoneType."
   ]
  },
  {
   "cell_type": "markdown",
   "id": "c66dacd3",
   "metadata": {},
   "source": [
    "9. How do you make a function variable refer to the global variable?\n",
    "Ans:- To make a function variable refer to a global variable, you can use the global keyword. \n",
    "      This keyword tells Python that you want to use the global variable with the same name as the   function variable, rather than creating a new local variable."
   ]
  },
  {
   "cell_type": "markdown",
   "id": "0a57c439",
   "metadata": {},
   "source": [
    "10. What is the data type of None?\n",
    "Ans:- In Python, None is a special value that represents the absence of a value or a null value. \n",
    "    It is an object of its own type, called NoneType."
   ]
  },
  {
   "cell_type": "markdown",
   "id": "32b3fa1d",
   "metadata": {},
   "source": [
    "11. What does the sentence import areallyourpetsnamederic do?\n",
    "Ans:- The import statement imports a module named areallyourpetsnamederic"
   ]
  },
  {
   "cell_type": "markdown",
   "id": "02374505",
   "metadata": {},
   "source": [
    "12. If you had a bacon() feature in a spam module, what would you call it after importing spam?\n",
    "Ans:- We can call the bacon() feature as spam.bacon() . from spam import bacon"
   ]
  },
  {
   "cell_type": "markdown",
   "id": "198f26a0",
   "metadata": {},
   "source": [
    "13. What can you do to save a programme from crashing if it encounters an error?\n",
    "Ans:- Using try and except statements: You can use try and except statements to catch and handle errors that occur during the execution of a program. \n",
    "        This allows you to gracefully recover from an error and continue executing the program, rather than crashing."
   ]
  },
  {
   "cell_type": "markdown",
   "id": "ef316672",
   "metadata": {},
   "source": [
    "14. What is the purpose of the try clause? What is the purpose of the except clause?\n",
    "Ans:- The code that could potentially cause an error goes in the try clause. \n",
    "    The code that executes if an error happens goes in the except clause.\n",
    "\n",
    " "
   ]
  }
 ],
 "metadata": {
  "kernelspec": {
   "display_name": "Python 3 (ipykernel)",
   "language": "python",
   "name": "python3"
  },
  "language_info": {
   "codemirror_mode": {
    "name": "ipython",
    "version": 3
   },
   "file_extension": ".py",
   "mimetype": "text/x-python",
   "name": "python",
   "nbconvert_exporter": "python",
   "pygments_lexer": "ipython3",
   "version": "3.9.12"
  }
 },
 "nbformat": 4,
 "nbformat_minor": 5
}
