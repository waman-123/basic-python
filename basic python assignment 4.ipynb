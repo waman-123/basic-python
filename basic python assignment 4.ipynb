{
 "cells": [
  {
   "cell_type": "markdown",
   "id": "9f3f194b",
   "metadata": {},
   "source": [
    "# assignment 4"
   ]
  },
  {
   "cell_type": "markdown",
   "id": "9a1d7d05",
   "metadata": {},
   "source": [
    "1. What exactly is [ ]?\n",
    "Ans:- The empty list represent by [] is a list contain no items."
   ]
  },
  {
   "cell_type": "markdown",
   "id": "c5730699",
   "metadata": {},
   "source": [
    "2. In a list of values stored in a variable called spam, how would you assign the value 'hello' as the third value? (Assume [2, 4, 6, 8, 10] are in spam.)\n",
    "Ans:-"
   ]
  },
  {
   "cell_type": "code",
   "execution_count": 1,
   "id": "adc2d495",
   "metadata": {},
   "outputs": [
    {
     "data": {
      "text/plain": [
       "[2, 4, 'hello', 8, 10]"
      ]
     },
     "execution_count": 1,
     "metadata": {},
     "output_type": "execute_result"
    }
   ],
   "source": [
    "spam = [2,4,6,8,10]\n",
    "spam[2] = \"hello\"\n",
    "spam"
   ]
  },
  {
   "cell_type": "markdown",
   "id": "77be1d44",
   "metadata": {},
   "source": [
    "3. What is the value of spam[int(int('3'*2)//11)] ?\n",
    "Ans:-"
   ]
  },
  {
   "cell_type": "code",
   "execution_count": 2,
   "id": "1f06c9f8",
   "metadata": {},
   "outputs": [
    {
     "name": "stdout",
     "output_type": "stream",
     "text": [
      "spam[int(int('3'*2)//11)] -> d\n"
     ]
    }
   ],
   "source": [
    "spam=['a','b','c','d']\n",
    "print(\"spam[int(int('3'*2)//11)] ->\",spam[int(int('3'*2)//11)])"
   ]
  },
  {
   "cell_type": "markdown",
   "id": "a81f4ee5",
   "metadata": {},
   "source": [
    "4. What is the value of spam[-1]?\n",
    "Ans:- list support negative index [-1] -> d\n",
    "\n",
    "5. What is the value of spam[:2]?\n",
    "Ans:- Return all the element in list 0 to 2 (spam[:2])"
   ]
  },
  {
   "cell_type": "code",
   "execution_count": 3,
   "id": "aba15409",
   "metadata": {},
   "outputs": [
    {
     "data": {
      "text/plain": [
       "['a', 'b']"
      ]
     },
     "execution_count": 3,
     "metadata": {},
     "output_type": "execute_result"
    }
   ],
   "source": [
    "spam[:2]"
   ]
  },
  {
   "cell_type": "markdown",
   "id": "4069a08d",
   "metadata": {},
   "source": [
    "Let's pretend bacon has the list [3.14,'cat',11,'cat',True] for the next three question"
   ]
  },
  {
   "cell_type": "markdown",
   "id": "a78f6e0a",
   "metadata": {},
   "source": [
    "6. What is the value of bacon.index('cat')?\n",
    "Ans:-"
   ]
  },
  {
   "cell_type": "code",
   "execution_count": 5,
   "id": "3ac33ba5",
   "metadata": {},
   "outputs": [
    {
     "data": {
      "text/plain": [
       "'cat'"
      ]
     },
     "execution_count": 5,
     "metadata": {},
     "output_type": "execute_result"
    }
   ],
   "source": [
    "bacon = [3.14,'cat',11,'cat',True]\n",
    "bacon[1]# cat is on index no 1"
   ]
  },
  {
   "cell_type": "markdown",
   "id": "b4752000",
   "metadata": {},
   "source": [
    "7. How does bacon.append(99) change the look of the list value in bacon?\n",
    "Ans:-"
   ]
  },
  {
   "cell_type": "code",
   "execution_count": 6,
   "id": "17c46ba5",
   "metadata": {},
   "outputs": [
    {
     "data": {
      "text/plain": [
       "[3.14, 'cat', 11, 'cat', True, 99]"
      ]
     },
     "execution_count": 6,
     "metadata": {},
     "output_type": "execute_result"
    }
   ],
   "source": [
    "bacon.append(99)# It add element 99 in end of list\n",
    "bacon"
   ]
  },
  {
   "cell_type": "markdown",
   "id": "df420d6f",
   "metadata": {},
   "source": [
    "8. How does bacon.remove('cat') change the look of the list in bacon?\n",
    "Ans:-"
   ]
  },
  {
   "cell_type": "code",
   "execution_count": 7,
   "id": "bd2ab59b",
   "metadata": {},
   "outputs": [
    {
     "data": {
      "text/plain": [
       "[3.14, 11, 'cat', True, 99]"
      ]
     },
     "execution_count": 7,
     "metadata": {},
     "output_type": "execute_result"
    }
   ],
   "source": [
    "bacon.remove(\"cat\")#The remove method removes the first occurence of the element in the list\n",
    "bacon"
   ]
  },
  {
   "cell_type": "markdown",
   "id": "4c88f318",
   "metadata": {},
   "source": [
    "9. what are the list concatenation and list replication operations?\n",
    "Ans:- The operator for list concatenation is +, while the operator for replication is *"
   ]
  },
  {
   "cell_type": "code",
   "execution_count": 8,
   "id": "d9f3b252",
   "metadata": {},
   "outputs": [
    {
     "data": {
      "text/plain": [
       "['a', 'b', 'c', 'd']"
      ]
     },
     "execution_count": 8,
     "metadata": {},
     "output_type": "execute_result"
    }
   ],
   "source": [
    "l = [\"a\", \"b\"]\n",
    "l2 = [\"c\",\"d\"]\n",
    "l3 = l + l2\n",
    "l3"
   ]
  },
  {
   "cell_type": "code",
   "execution_count": 9,
   "id": "d1f318b9",
   "metadata": {},
   "outputs": [
    {
     "name": "stdout",
     "output_type": "stream",
     "text": [
      "[1, 2, 3, 1, 2, 3, 1, 2, 3]\n"
     ]
    }
   ],
   "source": [
    "list1 = [1, 2, 3]\n",
    "list2 = list1 * 3\n",
    "print(list2)"
   ]
  },
  {
   "cell_type": "markdown",
   "id": "9827609d",
   "metadata": {},
   "source": [
    "10. what is the difference between the list method append() and insert()?\n",
    "Ans:- While append() will add values only to the end of a list, insert() can add them anywhere in the list."
   ]
  },
  {
   "cell_type": "markdown",
   "id": "c4788767",
   "metadata": {},
   "source": [
    "11. What are the two methods for removing items from a list?\n",
    "Ans:- The remove() and pop() method are two ways to remove values from a list The remove() method removes the first occurrence of a specified element from the list.\n",
    "    It takes a single argument, which is the element to be removed. If the element is not found in the list, it raises a ValueError exception. The pop() method removes an element from the list at a specific position.\n",
    "    It takes a single argument, which is the index of the element to be removed. If no index is specified, it removes and returns the last element of the list. So, the main difference between remove() and pop() is that remove() removes an element by value, while pop() removes an element by index."
   ]
  },
  {
   "cell_type": "markdown",
   "id": "c7aa7bf3",
   "metadata": {},
   "source": [
    "12. Describe how list values and string values are identical.\n",
    "Ans:- Both lists and strings can be passed to len() function, have indexes and slices, be used in for loops, \n",
    "    be concatenated or replicated, and be used with the in and not in operators."
   ]
  },
  {
   "cell_type": "markdown",
   "id": "56185046",
   "metadata": {},
   "source": [
    "13. What's the difference between tuples and lists?\n",
    "Ans:- Lists are Mutable, Indexable and Slicable. they can have values added, removed, or changed. \n",
    "    Tuples are Immutable but Indexable and Slicable. The tuple values cannot be changed at all. \n",
    "    Also, tuples are represented using parentheses, (), while lists use the square brackets, []."
   ]
  },
  {
   "cell_type": "markdown",
   "id": "49d31aa5",
   "metadata": {},
   "source": [
    "14. How do you type a tuple value that only contains the integer 42?\n",
    "Ans:- (42,) (The trailing comma is mandatory. otherwise its considered as a int by python Interpreter)"
   ]
  },
  {
   "cell_type": "code",
   "execution_count": 10,
   "id": "d7f6d322",
   "metadata": {},
   "outputs": [
    {
     "name": "stdout",
     "output_type": "stream",
     "text": [
      "<class 'tuple'>\n"
     ]
    }
   ],
   "source": [
    "tup = (42,)\n",
    "print(type(tup))"
   ]
  },
  {
   "cell_type": "markdown",
   "id": "f4d4ff14",
   "metadata": {},
   "source": [
    "15. How do you get a list value's tuple form? How do you get a tuple value's list form?\n",
    "Ans:- The tuple() and list() functions, respectively are used to convert a list to tuple and vice versa"
   ]
  },
  {
   "cell_type": "code",
   "execution_count": 11,
   "id": "0679d323",
   "metadata": {},
   "outputs": [
    {
     "data": {
      "text/plain": [
       "[4, 2, 3, 6, 5]"
      ]
     },
     "execution_count": 11,
     "metadata": {},
     "output_type": "execute_result"
    }
   ],
   "source": [
    "l = (4,2,3,6,5)\n",
    "list(l)"
   ]
  },
  {
   "cell_type": "code",
   "execution_count": 12,
   "id": "b179bde1",
   "metadata": {},
   "outputs": [
    {
     "data": {
      "text/plain": [
       "(1, 2, 3, 6, 5)"
      ]
     },
     "execution_count": 12,
     "metadata": {},
     "output_type": "execute_result"
    }
   ],
   "source": [
    "l2 = [1,2,3,6,5]\n",
    "tuple(l2)"
   ]
  },
  {
   "cell_type": "markdown",
   "id": "0eee2824",
   "metadata": {},
   "source": [
    "16. Variables that \"contain\" list values are not necessarily lists themselves. Instead, what do they contain?\n",
    "Ans:- : They contain references to list values.\n",
    "\n",
    "17. How do you distinguish between copy.copy() and copy.deepcopy()?\n",
    "Ans:- copy.copy() and copy.deepcopy() are functions that are used to create copies of objects in Python. \n",
    "    The main difference between them is the depth of the copy that they create.\n",
    "\n",
    "copy.copy() creates a shallow copy of an object. \n",
    "This means that it creates a new object with a new reference, but the contents of the object \n",
    "(e.g. the elements of a list or the attributes of a dictionary) are still references to the same objects as in the original.\n",
    "\n",
    "On the other hand, copy.deepcopy() creates a deep copy of an object. \n",
    "This means that it creates a new object with a new reference, and it also recursively creates new \n",
    "copies of all the objects that are referenced within the original object."
   ]
  },
  {
   "cell_type": "code",
   "execution_count": 13,
   "id": "f0d0b47a",
   "metadata": {},
   "outputs": [
    {
     "name": "stdout",
     "output_type": "stream",
     "text": [
      "[[5, 2], [3, 4]]\n",
      "[[5, 2], [3, 4]]\n"
     ]
    }
   ],
   "source": [
    "import copy\n",
    "\n",
    "# Create a list with nested lists\n",
    "my_list = [[1, 2], [3, 4]]\n",
    "\n",
    "# Create a shallow copy of `my_list` using `copy.copy()`\n",
    "shallow_copy = copy.copy(my_list)\n",
    "\n",
    "# Modify the original list\n",
    "my_list[0][0] = 5\n",
    "\n",
    "# The shallow copy reflects the changes made to the original list,\n",
    "# because it contains references to the same objects as the original list\n",
    "print(shallow_copy)  # prints [[5, 2], [3, 4]]\n",
    "\n",
    "# Create a deep copy of `my_list` using `copy.deepcopy()`\n",
    "deep_copy = copy.deepcopy(my_list)\n",
    "\n",
    "# Modify the original list again\n",
    "my_list[0][0] = 1\n",
    "\n",
    "# The deep copy does not reflect the changes made to the original list,\n",
    "# because it contains new copies of all the objects in the original list\n",
    "print(deep_copy)  # prints [[5, 2], [3, 4]]"
   ]
  },
  {
   "cell_type": "markdown",
   "id": "fe5936f0",
   "metadata": {},
   "source": [
    "In general, copy.copy() is faster and uses less memory than copy.deepcopy(), but it may not always give you the behavior that you want if the object you are copying contains references to other objects. copy.deepcopy() is more expensive in terms of performance and memory, but it ensures that you have a completely independent copy of the original object and all of its contents."
   ]
  }
 ],
 "metadata": {
  "kernelspec": {
   "display_name": "Python 3 (ipykernel)",
   "language": "python",
   "name": "python3"
  },
  "language_info": {
   "codemirror_mode": {
    "name": "ipython",
    "version": 3
   },
   "file_extension": ".py",
   "mimetype": "text/x-python",
   "name": "python",
   "nbconvert_exporter": "python",
   "pygments_lexer": "ipython3",
   "version": "3.9.12"
  }
 },
 "nbformat": 4,
 "nbformat_minor": 5
}
