{
 "cells": [
  {
   "cell_type": "markdown",
   "id": "c47c9eb8",
   "metadata": {},
   "source": [
    "# Assignment 5"
   ]
  },
  {
   "cell_type": "markdown",
   "id": "65c5634c",
   "metadata": {},
   "source": [
    "1. What does an empty dictionary's code look like?\n",
    "Ans:- An empty dictionary is often represented by two empty curly brackets d = {} or d = dict()"
   ]
  },
  {
   "cell_type": "code",
   "execution_count": 1,
   "id": "965fd9fc",
   "metadata": {},
   "outputs": [
    {
     "name": "stdout",
     "output_type": "stream",
     "text": [
      "<class 'dict'>\n",
      "{}\n"
     ]
    }
   ],
   "source": [
    "d = {}\n",
    "print(type(d))\n",
    "print(d) "
   ]
  },
  {
   "cell_type": "markdown",
   "id": "15b04b84",
   "metadata": {},
   "source": [
    "2. What is the value of a dictionary value with the key 'foo' and the value 42?\n",
    "Ans:- {'foo':42}"
   ]
  },
  {
   "cell_type": "code",
   "execution_count": 3,
   "id": "e5c3348c",
   "metadata": {},
   "outputs": [
    {
     "data": {
      "text/plain": [
       "{'foo': 42}"
      ]
     },
     "execution_count": 3,
     "metadata": {},
     "output_type": "execute_result"
    }
   ],
   "source": [
    "d = {'foo':42} # value is 42\n",
    "d"
   ]
  },
  {
   "cell_type": "markdown",
   "id": "7ba2b25c",
   "metadata": {},
   "source": [
    "3. What is the most significant distinction between a dictionary and a list?\n",
    "Ans:- Dictionaries are represented by {} where as listed are represented by [] A list is an ordered collection of items, and each item in the list has a corresponding index. The indices of a list are integers, and they start at 0. \n",
    "    You can access the items in a list using the indices, like this:"
   ]
  },
  {
   "cell_type": "code",
   "execution_count": 5,
   "id": "357d9b1e",
   "metadata": {},
   "outputs": [],
   "source": [
    "my_list = [1, 2, 3, 4]\n",
    "\n",
    "# Access the first item in the list\n",
    "item = my_list[0]  # item is now 1\n",
    "\n",
    "# Access the third item in the list\n",
    "item = my_list[2]  # item is now 3"
   ]
  },
  {
   "cell_type": "markdown",
   "id": "a46f1ff5",
   "metadata": {},
   "source": [
    "A dictionary, on the other hand, is a collection of key-value pairs. The keys in a dictionary are used to index the values, and they can be of any immutable type (such as integers, strings, or tuples). You can access the values in a dictionary using the keys, like this:"
   ]
  },
  {
   "cell_type": "code",
   "execution_count": 6,
   "id": "81c68f1d",
   "metadata": {},
   "outputs": [],
   "source": [
    "my_dict = {'a': 1, 'b': 2, 'c': 3}\n",
    "\n",
    "# Access the value with key 'a'\n",
    "value = my_dict['a']  # value is now 1\n",
    "\n",
    "# Access the value with key 'c'\n",
    "value = my_dict['c']  # value is now 3"
   ]
  },
  {
   "cell_type": "markdown",
   "id": "cb8cb41a",
   "metadata": {},
   "source": [
    "Another difference between lists and dictionaries is that the items in a list are ordered, while the key-value pairs in a dictionary are unordered. This means that the order in which the items appear in a list is significant, but the order of the key-value pairs in a dictionary is not."
   ]
  },
  {
   "cell_type": "code",
   "execution_count": 7,
   "id": "78bea1d0",
   "metadata": {},
   "outputs": [
    {
     "name": "stdout",
     "output_type": "stream",
     "text": [
      "True\n",
      "True\n",
      "True\n",
      "True\n",
      "True\n",
      "True\n"
     ]
    }
   ],
   "source": [
    "my_list = [1, 2, 3]\n",
    "my_dict = {'a': 1, 'b': 2, 'c': 3}\n",
    "\n",
    "# The order of the items in `my_list` is significant\n",
    "print(my_list[0] == my_dict['a'])  # prints True\n",
    "print(my_list[1] == my_dict['b'])  # prints True\n",
    "print(my_list[2] == my_dict['c'])  # prints True\n",
    "\n",
    "# The order of the key-value pairs in `my_dict` is not significant\n",
    "print(my_dict['a'] == 1)  # prints True\n",
    "print(my_dict['b'] == 2)  # prints True\n",
    "print(my_dict['c'] == 3)  # prints True"
   ]
  },
  {
   "cell_type": "markdown",
   "id": "2a622554",
   "metadata": {},
   "source": [
    "4. What happens if you try to access spam ['foo'] if spam is {'bar':100} ?\n",
    "Ans:-"
   ]
  },
  {
   "cell_type": "code",
   "execution_count": 8,
   "id": "378ac030",
   "metadata": {},
   "outputs": [
    {
     "ename": "KeyError",
     "evalue": "'foo'",
     "output_type": "error",
     "traceback": [
      "\u001b[1;31m---------------------------------------------------------------------------\u001b[0m",
      "\u001b[1;31mKeyError\u001b[0m                                  Traceback (most recent call last)",
      "Input \u001b[1;32mIn [8]\u001b[0m, in \u001b[0;36m<cell line: 2>\u001b[1;34m()\u001b[0m\n\u001b[0;32m      1\u001b[0m spam \u001b[38;5;241m=\u001b[39m {\u001b[38;5;124m'\u001b[39m\u001b[38;5;124mbar\u001b[39m\u001b[38;5;124m'\u001b[39m:\u001b[38;5;241m100\u001b[39m}\n\u001b[1;32m----> 2\u001b[0m \u001b[43mspam\u001b[49m\u001b[43m[\u001b[49m\u001b[38;5;124;43m'\u001b[39;49m\u001b[38;5;124;43mfoo\u001b[39;49m\u001b[38;5;124;43m'\u001b[39;49m\u001b[43m]\u001b[49m\n",
      "\u001b[1;31mKeyError\u001b[0m: 'foo'"
     ]
    }
   ],
   "source": [
    "spam = {'bar':100}\n",
    "spam['foo']"
   ]
  },
  {
   "cell_type": "markdown",
   "id": "6d38826c",
   "metadata": {},
   "source": [
    "5.If a dictionary is stored in spam,what is the difference between the expressions 'cat' in spam and 'cat' in spam.keys() ?\n",
    "Ans:- There is no difference . The operator checks whether a value exits as a key in the dictionary or not\n",
    "\n",
    "6. If a dictionary is stored in spam, what is the difference between the expressions 'cat' in spam and 'cat' in spam.values()?\n",
    "Ans:- The expression 'cat' in spam checks if the key 'cat' is present in the dictionary spam. It returns True if the key exists in the dictionary, and False if it does not.\n",
    "\n",
    "On the other hand, the expression 'cat' in spam.values() checks if the value 'cat' is present in the values of the dictionary spam. It returns True if the value exists in the dictionary's values, and False if it does not. Here is an example to illustrate the difference between these two expressions:"
   ]
  },
  {
   "cell_type": "code",
   "execution_count": 9,
   "id": "ce2a52e8",
   "metadata": {},
   "outputs": [
    {
     "name": "stdout",
     "output_type": "stream",
     "text": [
      "True\n",
      "False\n"
     ]
    }
   ],
   "source": [
    "spam = {'cat': 'meow', 'dog': 'woof', 'bird': 'tweet'}\n",
    "\n",
    "# Check if the key 'cat' is present in the dictionary\n",
    "print('cat' in spam)  # prints True\n",
    "\n",
    "# Check if the value 'cat' is present in the dictionary's values\n",
    "print('cat' in spam.values())  # prints False"
   ]
  },
  {
   "cell_type": "markdown",
   "id": "62eff39c",
   "metadata": {},
   "source": [
    "Note that the in operator only checks for the presence of keys or values in the dictionary, not for the values associated with those keys. To check the value associated with a particular key, you can use the indexing notation:"
   ]
  },
  {
   "cell_type": "code",
   "execution_count": 11,
   "id": "dc017c61",
   "metadata": {},
   "outputs": [
    {
     "data": {
      "text/plain": [
       "'meow'"
      ]
     },
     "execution_count": 11,
     "metadata": {},
     "output_type": "execute_result"
    }
   ],
   "source": [
    "# Check the value associated with the key 'cat'\n",
    "value = spam['cat']  # value is now 'meow'\n",
    "value"
   ]
  },
  {
   "cell_type": "markdown",
   "id": "8bbab9d8",
   "metadata": {},
   "source": [
    "7.What is a shortcut for the following code? if 'color' not in spam: spam['color'] = 'black'\n",
    "Ans:-"
   ]
  },
  {
   "cell_type": "code",
   "execution_count": 12,
   "id": "11ed8b16",
   "metadata": {},
   "outputs": [
    {
     "data": {
      "text/plain": [
       "{'cat': 'meow', 'dog': 'woof', 'bird': 'tweet', 'color': 'black'}"
      ]
     },
     "execution_count": 12,
     "metadata": {},
     "output_type": "execute_result"
    }
   ],
   "source": [
    "spam.setdefault('color','black')\n",
    "spam"
   ]
  },
  {
   "cell_type": "markdown",
   "id": "a8ddbfea",
   "metadata": {},
   "source": [
    "8.How do you \"pretty print\" dictionary values using which module and function?\n",
    "Ans:- We can pretty print a dictionary using three functions:\n",
    "\n",
    "1.by using pprint() function of pprint module Note: pprint() function doesnot prettify nested dictionaries\n",
    "\n",
    "2.by using dumps() method of json module\n",
    "\n",
    "3.by using dumps() method of yaml module"
   ]
  },
  {
   "cell_type": "code",
   "execution_count": 13,
   "id": "4e19f234",
   "metadata": {},
   "outputs": [
    {
     "name": "stdout",
     "output_type": "stream",
     "text": [
      "Printing using print() function\n",
      " [{'Name': 'Dhoni', 'Age': '42', 'Residence': {'Country': 'India', 'City': 'Jharkhand'}}, {'Name': 'Jadeja', 'Age': '35', 'Residence': {'Country': 'India', 'City': 'Rajasthan'}}, {'Name': 'Raina', 'Age': '37', 'Residence': {'Country': 'India', 'City': 'UP'}}, {'Name': 'Virat', 'Age': '35', 'Residence': {'Country': 'India', 'City': 'Delhi'}}, {'Name': 'Rohit', 'Age': '36', 'Residence': {'Country': 'India', 'City': 'Mumbai'}}]\n",
      "....................................................................................................\n",
      "Printing using pprint() funciton\n",
      "[{'Age': '42',\n",
      "  'Name': 'Dhoni',\n",
      "  'Residence': {'City': 'Jharkhand', 'Country': 'India'}},\n",
      " {'Age': '35',\n",
      "  'Name': 'Jadeja',\n",
      "  'Residence': {'City': 'Rajasthan', 'Country': 'India'}},\n",
      " {'Age': '37',\n",
      "  'Name': 'Raina',\n",
      "  'Residence': {'City': 'UP', 'Country': 'India'}},\n",
      " {'Age': '35',\n",
      "  'Name': 'Virat',\n",
      "  'Residence': {'City': 'Delhi', 'Country': 'India'}},\n",
      " {'Age': '36',\n",
      "  'Name': 'Rohit',\n",
      "  'Residence': {'City': 'Mumbai', 'Country': 'India'}}]\n",
      "....................................................................................................\n",
      "Printing using dumps() method\n",
      " [\n",
      "    {\n",
      "        \"Name\": \"Dhoni\",\n",
      "        \"Age\": \"42\",\n",
      "        \"Residence\": {\n",
      "            \"Country\": \"India\",\n",
      "            \"City\": \"Jharkhand\"\n",
      "        }\n",
      "    },\n",
      "    {\n",
      "        \"Name\": \"Jadeja\",\n",
      "        \"Age\": \"35\",\n",
      "        \"Residence\": {\n",
      "            \"Country\": \"India\",\n",
      "            \"City\": \"Rajasthan\"\n",
      "        }\n",
      "    },\n",
      "    {\n",
      "        \"Name\": \"Raina\",\n",
      "        \"Age\": \"37\",\n",
      "        \"Residence\": {\n",
      "            \"Country\": \"India\",\n",
      "            \"City\": \"UP\"\n",
      "        }\n",
      "    },\n",
      "    {\n",
      "        \"Name\": \"Virat\",\n",
      "        \"Age\": \"35\",\n",
      "        \"Residence\": {\n",
      "            \"Country\": \"India\",\n",
      "            \"City\": \"Delhi\"\n",
      "        }\n",
      "    },\n",
      "    {\n",
      "        \"Name\": \"Rohit\",\n",
      "        \"Age\": \"36\",\n",
      "        \"Residence\": {\n",
      "            \"Country\": \"India\",\n",
      "            \"City\": \"Mumbai\"\n",
      "        }\n",
      "    }\n",
      "]\n",
      "..........\n",
      "Printing using dump() method\n",
      " - Age: '42'\n",
      "  Name: Dhoni\n",
      "  Residence:\n",
      "    City: Jharkhand\n",
      "    Country: India\n",
      "- Age: '35'\n",
      "  Name: Jadeja\n",
      "  Residence:\n",
      "    City: Rajasthan\n",
      "    Country: India\n",
      "- Age: '37'\n",
      "  Name: Raina\n",
      "  Residence:\n",
      "    City: UP\n",
      "    Country: India\n",
      "- Age: '35'\n",
      "  Name: Virat\n",
      "  Residence:\n",
      "    City: Delhi\n",
      "    Country: India\n",
      "- Age: '36'\n",
      "  Name: Rohit\n",
      "  Residence:\n",
      "    City: Mumbai\n",
      "    Country: India\n",
      "\n"
     ]
    }
   ],
   "source": [
    "#example\n",
    "\n",
    "ndict = [\n",
    "  {'Name': 'Dhoni', 'Age': '42', 'Residence': {'Country':'India', 'City': 'Jharkhand'}},\n",
    "  {'Name': 'Jadeja', 'Age': '35', 'Residence': {'Country':'India', 'City': 'Rajasthan'}},\n",
    "  {'Name': 'Raina', 'Age': '37', 'Residence': {'Country':'India', 'City': 'UP'}},\n",
    "  {'Name': 'Virat', 'Age': '35', 'Residence': {'Country':'India', 'City': 'Delhi'}},\n",
    "  {'Name': 'Rohit', 'Age': '36', 'Residence': {'Country':'India', 'City': 'Mumbai'}}\n",
    "]\n",
    "\n",
    "print('Printing using print() function\\n',ndict)\n",
    "print('.'*100)\n",
    "import pprint\n",
    "print('Printing using pprint() funciton')\n",
    "pprint.pprint(ndict)\n",
    "print('.'*100)\n",
    "import json\n",
    "dump = json.dumps(ndict, indent=4)\n",
    "print('Printing using dumps() method\\n', dump)\n",
    "print('.'*10)\n",
    "import yaml\n",
    "dump = yaml.dump(ndict)\n",
    "print('Printing using dump() method\\n', dump)"
   ]
  },
  {
   "cell_type": "code",
   "execution_count": null,
   "id": "6e6c3c1a",
   "metadata": {},
   "outputs": [],
   "source": []
  }
 ],
 "metadata": {
  "kernelspec": {
   "display_name": "Python 3 (ipykernel)",
   "language": "python",
   "name": "python3"
  },
  "language_info": {
   "codemirror_mode": {
    "name": "ipython",
    "version": 3
   },
   "file_extension": ".py",
   "mimetype": "text/x-python",
   "name": "python",
   "nbconvert_exporter": "python",
   "pygments_lexer": "ipython3",
   "version": "3.9.12"
  }
 },
 "nbformat": 4,
 "nbformat_minor": 5
}
